{
 "cells": [
  {
   "cell_type": "code",
   "execution_count": 73,
   "metadata": {},
   "outputs": [],
   "source": [
    "import pandas as pd\n",
    "import numpy as np\n",
    "import re"
   ]
  },
  {
   "cell_type": "code",
   "execution_count": 80,
   "metadata": {},
   "outputs": [
    {
     "name": "stderr",
     "output_type": "stream",
     "text": [
      "/var/folders/pf/3nx9qgs16f73_h0z28r_08780000gn/T/ipykernel_6969/3035639114.py:1: DtypeWarning: Columns (4) have mixed types. Specify dtype option on import or set low_memory=False.\n",
      "  df_01 = pd.read_csv('/Users/ikjuncho/Documents/GitHub/waste_medicine_collection_bins/data/2022년 버스 정류장 이용 승객/2022년01월.csv', encoding = 'cp949')\n",
      "/var/folders/pf/3nx9qgs16f73_h0z28r_08780000gn/T/ipykernel_6969/3035639114.py:2: DtypeWarning: Columns (4) have mixed types. Specify dtype option on import or set low_memory=False.\n",
      "  df_02 = pd.read_csv('/Users/ikjuncho/Documents/GitHub/waste_medicine_collection_bins/data/2022년 버스 정류장 이용 승객/2022년02월.csv', encoding = 'cp949')\n",
      "/var/folders/pf/3nx9qgs16f73_h0z28r_08780000gn/T/ipykernel_6969/3035639114.py:3: DtypeWarning: Columns (4) have mixed types. Specify dtype option on import or set low_memory=False.\n",
      "  df_03 = pd.read_csv('/Users/ikjuncho/Documents/GitHub/waste_medicine_collection_bins/data/2022년 버스 정류장 이용 승객/2022년03월.csv', encoding = 'cp949')\n",
      "/var/folders/pf/3nx9qgs16f73_h0z28r_08780000gn/T/ipykernel_6969/3035639114.py:4: DtypeWarning: Columns (4) have mixed types. Specify dtype option on import or set low_memory=False.\n",
      "  df_04 = pd.read_csv('/Users/ikjuncho/Documents/GitHub/waste_medicine_collection_bins/data/2022년 버스 정류장 이용 승객/2022년04월.csv', encoding = 'cp949')\n",
      "/var/folders/pf/3nx9qgs16f73_h0z28r_08780000gn/T/ipykernel_6969/3035639114.py:5: DtypeWarning: Columns (4) have mixed types. Specify dtype option on import or set low_memory=False.\n",
      "  df_05 = pd.read_csv('/Users/ikjuncho/Documents/GitHub/waste_medicine_collection_bins/data/2022년 버스 정류장 이용 승객/2022년05월.csv', encoding = 'cp949')\n",
      "/var/folders/pf/3nx9qgs16f73_h0z28r_08780000gn/T/ipykernel_6969/3035639114.py:6: DtypeWarning: Columns (4) have mixed types. Specify dtype option on import or set low_memory=False.\n",
      "  df_06 = pd.read_csv('/Users/ikjuncho/Documents/GitHub/waste_medicine_collection_bins/data/2022년 버스 정류장 이용 승객/2022년06월.csv', encoding = 'cp949')\n",
      "/var/folders/pf/3nx9qgs16f73_h0z28r_08780000gn/T/ipykernel_6969/3035639114.py:7: DtypeWarning: Columns (4) have mixed types. Specify dtype option on import or set low_memory=False.\n",
      "  df_07 = pd.read_csv('/Users/ikjuncho/Documents/GitHub/waste_medicine_collection_bins/data/2022년 버스 정류장 이용 승객/2022년07월.csv', encoding = 'cp949')\n",
      "/var/folders/pf/3nx9qgs16f73_h0z28r_08780000gn/T/ipykernel_6969/3035639114.py:8: DtypeWarning: Columns (4) have mixed types. Specify dtype option on import or set low_memory=False.\n",
      "  df_08 = pd.read_csv('/Users/ikjuncho/Documents/GitHub/waste_medicine_collection_bins/data/2022년 버스 정류장 이용 승객/2022년08월.csv', encoding = 'cp949')\n",
      "/var/folders/pf/3nx9qgs16f73_h0z28r_08780000gn/T/ipykernel_6969/3035639114.py:9: DtypeWarning: Columns (4) have mixed types. Specify dtype option on import or set low_memory=False.\n",
      "  df_09 = pd.read_csv('/Users/ikjuncho/Documents/GitHub/waste_medicine_collection_bins/data/2022년 버스 정류장 이용 승객/2022년09월.csv', encoding = 'cp949')\n",
      "/var/folders/pf/3nx9qgs16f73_h0z28r_08780000gn/T/ipykernel_6969/3035639114.py:10: DtypeWarning: Columns (4) have mixed types. Specify dtype option on import or set low_memory=False.\n",
      "  df_10 = pd.read_csv('/Users/ikjuncho/Documents/GitHub/waste_medicine_collection_bins/data/2022년 버스 정류장 이용 승객/2022년10월.csv', encoding = 'cp949')\n",
      "/var/folders/pf/3nx9qgs16f73_h0z28r_08780000gn/T/ipykernel_6969/3035639114.py:11: DtypeWarning: Columns (4) have mixed types. Specify dtype option on import or set low_memory=False.\n",
      "  df_11 = pd.read_csv('/Users/ikjuncho/Documents/GitHub/waste_medicine_collection_bins/data/2022년 버스 정류장 이용 승객/2022년11월.csv', encoding = 'cp949')\n",
      "/var/folders/pf/3nx9qgs16f73_h0z28r_08780000gn/T/ipykernel_6969/3035639114.py:12: DtypeWarning: Columns (4) have mixed types. Specify dtype option on import or set low_memory=False.\n",
      "  df_12 = pd.read_csv('/Users/ikjuncho/Documents/GitHub/waste_medicine_collection_bins/data/2022년 버스 정류장 이용 승객/2022년12월.csv', encoding = 'cp949')\n"
     ]
    }
   ],
   "source": [
    "df_01 = pd.read_csv('/Users/ikjuncho/Documents/GitHub/waste_medicine_collection_bins/data/2022년 버스 정류장 이용 승객/2022년01월.csv', encoding = 'cp949')\n",
    "df_02 = pd.read_csv('/Users/ikjuncho/Documents/GitHub/waste_medicine_collection_bins/data/2022년 버스 정류장 이용 승객/2022년02월.csv', encoding = 'cp949')\n",
    "df_03 = pd.read_csv('/Users/ikjuncho/Documents/GitHub/waste_medicine_collection_bins/data/2022년 버스 정류장 이용 승객/2022년03월.csv', encoding = 'cp949')\n",
    "df_04 = pd.read_csv('/Users/ikjuncho/Documents/GitHub/waste_medicine_collection_bins/data/2022년 버스 정류장 이용 승객/2022년04월.csv', encoding = 'cp949')\n",
    "df_05 = pd.read_csv('/Users/ikjuncho/Documents/GitHub/waste_medicine_collection_bins/data/2022년 버스 정류장 이용 승객/2022년05월.csv', encoding = 'cp949')\n",
    "df_06 = pd.read_csv('/Users/ikjuncho/Documents/GitHub/waste_medicine_collection_bins/data/2022년 버스 정류장 이용 승객/2022년06월.csv', encoding = 'cp949')\n",
    "df_07 = pd.read_csv('/Users/ikjuncho/Documents/GitHub/waste_medicine_collection_bins/data/2022년 버스 정류장 이용 승객/2022년07월.csv', encoding = 'cp949')\n",
    "df_08 = pd.read_csv('/Users/ikjuncho/Documents/GitHub/waste_medicine_collection_bins/data/2022년 버스 정류장 이용 승객/2022년08월.csv', encoding = 'cp949')\n",
    "df_09 = pd.read_csv('/Users/ikjuncho/Documents/GitHub/waste_medicine_collection_bins/data/2022년 버스 정류장 이용 승객/2022년09월.csv', encoding = 'cp949')\n",
    "df_10 = pd.read_csv('/Users/ikjuncho/Documents/GitHub/waste_medicine_collection_bins/data/2022년 버스 정류장 이용 승객/2022년10월.csv', encoding = 'cp949')\n",
    "df_11 = pd.read_csv('/Users/ikjuncho/Documents/GitHub/waste_medicine_collection_bins/data/2022년 버스 정류장 이용 승객/2022년11월.csv', encoding = 'cp949')\n",
    "df_12 = pd.read_csv('/Users/ikjuncho/Documents/GitHub/waste_medicine_collection_bins/data/2022년 버스 정류장 이용 승객/2022년12월.csv', encoding = 'cp949')\n",
    "df_bus = pd.read_csv('/Users/ikjuncho/Documents/GitHub/waste_medicine_collection_bins/data/버스 정류장 위치.csv')"
   ]
  },
  {
   "cell_type": "code",
   "execution_count": 81,
   "metadata": {},
   "outputs": [],
   "source": [
    "\n",
    "columns_time = ['00시승차총승객수',\n",
    "       '00시하차총승객수', '1시승차총승객수', '1시하차총승객수', '2시승차총승객수', '2시하차총승객수', '3시승차총승객수',\n",
    "       '3시하차총승객수', '4시승차총승객수', '4시하차총승객수', '5시승차총승객수', '5시하차총승객수', '6시승차총승객수',\n",
    "       '6시하차총승객수', '7시승차총승객수', '7시하차총승객수', '8시승차총승객수', '8시하차총승객수', '9시승차총승객수',\n",
    "       '9시하차총승객수', '10시승차총승객수', '10시하차총승객수', '11시승차총승객수', '11시하차총승객수',\n",
    "       '12시승차총승객수', '12시하차총승객수', '13시승차총승객수', '13시하차총승객수', '14시승차총승객수',\n",
    "       '14시하차총승객수', '15시승차총승객수', '15시하차총승객수', '16시승차총승객수', '16시하차총승객수',\n",
    "       '17시승차총승객수', '17시하차총승객수', '18시승차총승객수', '18시하차총승객수', '19시승차총승객수',\n",
    "       '19시하차총승객수', '20시승차총승객수', '20시하차총승객수', '21시승차총승객수', '21시하차총승객수',\n",
    "       '22시승차총승객수', '22시하차총승객수', '23시승차총승객수', '23시하차총승객수']\n",
    "\n",
    "def calculate_sum(df):\n",
    "    df[columns_time] = df[columns_time].astype('int')\n",
    "    df['합계'] = df[columns_time].sum(axis=1)\n",
    "    df = df[['버스정류장ARS번호', '합계']]\n",
    "    return df"
   ]
  },
  {
   "cell_type": "code",
   "execution_count": 82,
   "metadata": {},
   "outputs": [],
   "source": [
    "df_01 = calculate_sum(df_01)\n",
    "df_02 = calculate_sum(df_02)\n",
    "df_03 = calculate_sum(df_03)\n",
    "df_04 = calculate_sum(df_04)\n",
    "df_05 = calculate_sum(df_05)\n",
    "df_06 = calculate_sum(df_06)\n",
    "df_07 = calculate_sum(df_07)\n",
    "df_08 = calculate_sum(df_08)\n",
    "df_09 = calculate_sum(df_09)\n",
    "df_10 = calculate_sum(df_10)\n",
    "df_11 = calculate_sum(df_11)\n",
    "df_12 = calculate_sum(df_12)"
   ]
  },
  {
   "cell_type": "code",
   "execution_count": 83,
   "metadata": {},
   "outputs": [],
   "source": [
    "combined_df = pd.concat([df_01, df_02, df_03, df_04, df_05, df_06, df_07,\n",
    " df_08, df_09, df_10, df_11, df_12], axis=0)"
   ]
  },
  {
   "cell_type": "code",
   "execution_count": 86,
   "metadata": {},
   "outputs": [
    {
     "data": {
      "text/html": [
       "<div>\n",
       "<style scoped>\n",
       "    .dataframe tbody tr th:only-of-type {\n",
       "        vertical-align: middle;\n",
       "    }\n",
       "\n",
       "    .dataframe tbody tr th {\n",
       "        vertical-align: top;\n",
       "    }\n",
       "\n",
       "    .dataframe thead th {\n",
       "        text-align: right;\n",
       "    }\n",
       "</style>\n",
       "<table border=\"1\" class=\"dataframe\">\n",
       "  <thead>\n",
       "    <tr style=\"text-align: right;\">\n",
       "      <th></th>\n",
       "      <th>버스정류장ARS번호</th>\n",
       "      <th>합계</th>\n",
       "    </tr>\n",
       "  </thead>\n",
       "  <tbody>\n",
       "    <tr>\n",
       "      <th>41758</th>\n",
       "      <td>~</td>\n",
       "      <td>88</td>\n",
       "    </tr>\n",
       "    <tr>\n",
       "      <th>41759</th>\n",
       "      <td>~</td>\n",
       "      <td>26</td>\n",
       "    </tr>\n",
       "    <tr>\n",
       "      <th>41760</th>\n",
       "      <td>~</td>\n",
       "      <td>25</td>\n",
       "    </tr>\n",
       "    <tr>\n",
       "      <th>41761</th>\n",
       "      <td>~</td>\n",
       "      <td>43</td>\n",
       "    </tr>\n",
       "    <tr>\n",
       "      <th>41762</th>\n",
       "      <td>~</td>\n",
       "      <td>48</td>\n",
       "    </tr>\n",
       "  </tbody>\n",
       "</table>\n",
       "</div>"
      ],
      "text/plain": [
       "      버스정류장ARS번호  합계\n",
       "41758          ~  88\n",
       "41759          ~  26\n",
       "41760          ~  25\n",
       "41761          ~  43\n",
       "41762          ~  48"
      ]
     },
     "execution_count": 86,
     "metadata": {},
     "output_type": "execute_result"
    }
   ],
   "source": [
    "combined_df.tail()"
   ]
  },
  {
   "cell_type": "code",
   "execution_count": 87,
   "metadata": {},
   "outputs": [],
   "source": [
    "filtered_rows = combined_df[combined_df['버스정류장ARS번호'] == '~']\n",
    "combined_df = combined_df.drop(filtered_rows.index)\n"
   ]
  },
  {
   "cell_type": "code",
   "execution_count": 88,
   "metadata": {},
   "outputs": [
    {
     "data": {
      "text/html": [
       "<div>\n",
       "<style scoped>\n",
       "    .dataframe tbody tr th:only-of-type {\n",
       "        vertical-align: middle;\n",
       "    }\n",
       "\n",
       "    .dataframe tbody tr th {\n",
       "        vertical-align: top;\n",
       "    }\n",
       "\n",
       "    .dataframe thead th {\n",
       "        text-align: right;\n",
       "    }\n",
       "</style>\n",
       "<table border=\"1\" class=\"dataframe\">\n",
       "  <thead>\n",
       "    <tr style=\"text-align: right;\">\n",
       "      <th></th>\n",
       "      <th>버스정류장ARS번호</th>\n",
       "      <th>합계</th>\n",
       "    </tr>\n",
       "  </thead>\n",
       "  <tbody>\n",
       "    <tr>\n",
       "      <th>41530</th>\n",
       "      <td>63735</td>\n",
       "      <td>4</td>\n",
       "    </tr>\n",
       "    <tr>\n",
       "      <th>41531</th>\n",
       "      <td>15452</td>\n",
       "      <td>49</td>\n",
       "    </tr>\n",
       "    <tr>\n",
       "      <th>41532</th>\n",
       "      <td>15451</td>\n",
       "      <td>191</td>\n",
       "    </tr>\n",
       "    <tr>\n",
       "      <th>41533</th>\n",
       "      <td>15453</td>\n",
       "      <td>179</td>\n",
       "    </tr>\n",
       "    <tr>\n",
       "      <th>41534</th>\n",
       "      <td>15450</td>\n",
       "      <td>48</td>\n",
       "    </tr>\n",
       "  </tbody>\n",
       "</table>\n",
       "</div>"
      ],
      "text/plain": [
       "      버스정류장ARS번호   합계\n",
       "41530      63735    4\n",
       "41531      15452   49\n",
       "41532      15451  191\n",
       "41533      15453  179\n",
       "41534      15450   48"
      ]
     },
     "execution_count": 88,
     "metadata": {},
     "output_type": "execute_result"
    }
   ],
   "source": [
    "combined_df.tail()"
   ]
  },
  {
   "cell_type": "code",
   "execution_count": 89,
   "metadata": {},
   "outputs": [
    {
     "data": {
      "text/html": [
       "<div>\n",
       "<style scoped>\n",
       "    .dataframe tbody tr th:only-of-type {\n",
       "        vertical-align: middle;\n",
       "    }\n",
       "\n",
       "    .dataframe tbody tr th {\n",
       "        vertical-align: top;\n",
       "    }\n",
       "\n",
       "    .dataframe thead th {\n",
       "        text-align: right;\n",
       "    }\n",
       "</style>\n",
       "<table border=\"1\" class=\"dataframe\">\n",
       "  <thead>\n",
       "    <tr style=\"text-align: right;\">\n",
       "      <th></th>\n",
       "      <th>버스정류장ARS번호</th>\n",
       "      <th>합계</th>\n",
       "    </tr>\n",
       "  </thead>\n",
       "  <tbody>\n",
       "    <tr>\n",
       "      <th>0</th>\n",
       "      <td>1001</td>\n",
       "      <td>316341</td>\n",
       "    </tr>\n",
       "    <tr>\n",
       "      <th>1</th>\n",
       "      <td>1002</td>\n",
       "      <td>1538820</td>\n",
       "    </tr>\n",
       "    <tr>\n",
       "      <th>2</th>\n",
       "      <td>1003</td>\n",
       "      <td>2244756</td>\n",
       "    </tr>\n",
       "    <tr>\n",
       "      <th>3</th>\n",
       "      <td>1004</td>\n",
       "      <td>488603</td>\n",
       "    </tr>\n",
       "    <tr>\n",
       "      <th>4</th>\n",
       "      <td>1005</td>\n",
       "      <td>1386333</td>\n",
       "    </tr>\n",
       "  </tbody>\n",
       "</table>\n",
       "</div>"
      ],
      "text/plain": [
       "  버스정류장ARS번호       합계\n",
       "0       1001   316341\n",
       "1       1002  1538820\n",
       "2       1003  2244756\n",
       "3       1004   488603\n",
       "4       1005  1386333"
      ]
     },
     "execution_count": 89,
     "metadata": {},
     "output_type": "execute_result"
    }
   ],
   "source": [
    "df_user = combined_df.groupby('버스정류장ARS번호')['합계'].sum().reset_index()\n",
    "df_user.head()"
   ]
  },
  {
   "cell_type": "code",
   "execution_count": 93,
   "metadata": {},
   "outputs": [
    {
     "data": {
      "text/html": [
       "<div>\n",
       "<style scoped>\n",
       "    .dataframe tbody tr th:only-of-type {\n",
       "        vertical-align: middle;\n",
       "    }\n",
       "\n",
       "    .dataframe tbody tr th {\n",
       "        vertical-align: top;\n",
       "    }\n",
       "\n",
       "    .dataframe thead th {\n",
       "        text-align: right;\n",
       "    }\n",
       "</style>\n",
       "<table border=\"1\" class=\"dataframe\">\n",
       "  <thead>\n",
       "    <tr style=\"text-align: right;\">\n",
       "      <th></th>\n",
       "      <th>NODE_ID</th>\n",
       "      <th>ARS_ID</th>\n",
       "      <th>정류소명</th>\n",
       "      <th>X좌표</th>\n",
       "      <th>Y좌표</th>\n",
       "      <th>SIG_CD</th>\n",
       "      <th>SIG_ENG_NM</th>\n",
       "      <th>SIG_KOR_NM</th>\n",
       "    </tr>\n",
       "  </thead>\n",
       "  <tbody>\n",
       "    <tr>\n",
       "      <th>0</th>\n",
       "      <td>100000001</td>\n",
       "      <td>1001</td>\n",
       "      <td>종로2가사거리</td>\n",
       "      <td>126.987750</td>\n",
       "      <td>37.569765</td>\n",
       "      <td>11110.0</td>\n",
       "      <td>Jongno-gu</td>\n",
       "      <td>종로구</td>\n",
       "    </tr>\n",
       "    <tr>\n",
       "      <th>1</th>\n",
       "      <td>100000002</td>\n",
       "      <td>1002</td>\n",
       "      <td>창경궁.서울대학교병원</td>\n",
       "      <td>126.996566</td>\n",
       "      <td>37.579183</td>\n",
       "      <td>11110.0</td>\n",
       "      <td>Jongno-gu</td>\n",
       "      <td>종로구</td>\n",
       "    </tr>\n",
       "    <tr>\n",
       "      <th>2</th>\n",
       "      <td>100000003</td>\n",
       "      <td>1003</td>\n",
       "      <td>명륜3가.성대입구</td>\n",
       "      <td>126.998340</td>\n",
       "      <td>37.582671</td>\n",
       "      <td>11110.0</td>\n",
       "      <td>Jongno-gu</td>\n",
       "      <td>종로구</td>\n",
       "    </tr>\n",
       "    <tr>\n",
       "      <th>3</th>\n",
       "      <td>100000004</td>\n",
       "      <td>1004</td>\n",
       "      <td>종로2가.삼일교</td>\n",
       "      <td>126.987613</td>\n",
       "      <td>37.568579</td>\n",
       "      <td>11110.0</td>\n",
       "      <td>Jongno-gu</td>\n",
       "      <td>종로구</td>\n",
       "    </tr>\n",
       "    <tr>\n",
       "      <th>4</th>\n",
       "      <td>100000005</td>\n",
       "      <td>1005</td>\n",
       "      <td>혜화동로터리.여운형활동터</td>\n",
       "      <td>127.001744</td>\n",
       "      <td>37.586243</td>\n",
       "      <td>11110.0</td>\n",
       "      <td>Jongno-gu</td>\n",
       "      <td>종로구</td>\n",
       "    </tr>\n",
       "  </tbody>\n",
       "</table>\n",
       "</div>"
      ],
      "text/plain": [
       "     NODE_ID  ARS_ID           정류소명         X좌표        Y좌표   SIG_CD  \\\n",
       "0  100000001    1001        종로2가사거리  126.987750  37.569765  11110.0   \n",
       "1  100000002    1002    창경궁.서울대학교병원  126.996566  37.579183  11110.0   \n",
       "2  100000003    1003      명륜3가.성대입구  126.998340  37.582671  11110.0   \n",
       "3  100000004    1004       종로2가.삼일교  126.987613  37.568579  11110.0   \n",
       "4  100000005    1005  혜화동로터리.여운형활동터  127.001744  37.586243  11110.0   \n",
       "\n",
       "  SIG_ENG_NM SIG_KOR_NM  \n",
       "0  Jongno-gu        종로구  \n",
       "1  Jongno-gu        종로구  \n",
       "2  Jongno-gu        종로구  \n",
       "3  Jongno-gu        종로구  \n",
       "4  Jongno-gu        종로구  "
      ]
     },
     "execution_count": 93,
     "metadata": {},
     "output_type": "execute_result"
    }
   ],
   "source": [
    "df_bus.head()"
   ]
  },
  {
   "cell_type": "code",
   "execution_count": 91,
   "metadata": {},
   "outputs": [
    {
     "data": {
      "text/plain": [
       "Index(['NODE_ID', 'ARS_ID', '정류소명', 'X좌표', 'Y좌표', 'SIG_CD', 'SIG_ENG_NM',\n",
       "       'SIG_KOR_NM'],\n",
       "      dtype='object')"
      ]
     },
     "execution_count": 91,
     "metadata": {},
     "output_type": "execute_result"
    }
   ],
   "source": [
    "df_bus.columns"
   ]
  },
  {
   "cell_type": "code",
   "execution_count": 94,
   "metadata": {},
   "outputs": [
    {
     "data": {
      "text/html": [
       "<div>\n",
       "<style scoped>\n",
       "    .dataframe tbody tr th:only-of-type {\n",
       "        vertical-align: middle;\n",
       "    }\n",
       "\n",
       "    .dataframe tbody tr th {\n",
       "        vertical-align: top;\n",
       "    }\n",
       "\n",
       "    .dataframe thead th {\n",
       "        text-align: right;\n",
       "    }\n",
       "</style>\n",
       "<table border=\"1\" class=\"dataframe\">\n",
       "  <thead>\n",
       "    <tr style=\"text-align: right;\">\n",
       "      <th></th>\n",
       "      <th>버스정류장ARS번호</th>\n",
       "      <th>시군구</th>\n",
       "    </tr>\n",
       "  </thead>\n",
       "  <tbody>\n",
       "    <tr>\n",
       "      <th>0</th>\n",
       "      <td>1001</td>\n",
       "      <td>종로구</td>\n",
       "    </tr>\n",
       "    <tr>\n",
       "      <th>1</th>\n",
       "      <td>1002</td>\n",
       "      <td>종로구</td>\n",
       "    </tr>\n",
       "    <tr>\n",
       "      <th>2</th>\n",
       "      <td>1003</td>\n",
       "      <td>종로구</td>\n",
       "    </tr>\n",
       "    <tr>\n",
       "      <th>3</th>\n",
       "      <td>1004</td>\n",
       "      <td>종로구</td>\n",
       "    </tr>\n",
       "    <tr>\n",
       "      <th>4</th>\n",
       "      <td>1005</td>\n",
       "      <td>종로구</td>\n",
       "    </tr>\n",
       "  </tbody>\n",
       "</table>\n",
       "</div>"
      ],
      "text/plain": [
       "   버스정류장ARS번호  시군구\n",
       "0        1001  종로구\n",
       "1        1002  종로구\n",
       "2        1003  종로구\n",
       "3        1004  종로구\n",
       "4        1005  종로구"
      ]
     },
     "execution_count": 94,
     "metadata": {},
     "output_type": "execute_result"
    }
   ],
   "source": [
    "df_bus = df_bus[['ARS_ID', 'SIG_KOR_NM']]\n",
    "df_bus.columns = ['버스정류장ARS번호', '시군구']\n",
    "df_bus.head()"
   ]
  },
  {
   "cell_type": "code",
   "execution_count": 95,
   "metadata": {},
   "outputs": [
    {
     "data": {
      "text/html": [
       "<div>\n",
       "<style scoped>\n",
       "    .dataframe tbody tr th:only-of-type {\n",
       "        vertical-align: middle;\n",
       "    }\n",
       "\n",
       "    .dataframe tbody tr th {\n",
       "        vertical-align: top;\n",
       "    }\n",
       "\n",
       "    .dataframe thead th {\n",
       "        text-align: right;\n",
       "    }\n",
       "</style>\n",
       "<table border=\"1\" class=\"dataframe\">\n",
       "  <thead>\n",
       "    <tr style=\"text-align: right;\">\n",
       "      <th></th>\n",
       "      <th>버스정류장ARS번호</th>\n",
       "      <th>합계</th>\n",
       "      <th>시군구</th>\n",
       "    </tr>\n",
       "  </thead>\n",
       "  <tbody>\n",
       "    <tr>\n",
       "      <th>0</th>\n",
       "      <td>1001</td>\n",
       "      <td>316341</td>\n",
       "      <td>종로구</td>\n",
       "    </tr>\n",
       "    <tr>\n",
       "      <th>1</th>\n",
       "      <td>1002</td>\n",
       "      <td>1538820</td>\n",
       "      <td>종로구</td>\n",
       "    </tr>\n",
       "    <tr>\n",
       "      <th>2</th>\n",
       "      <td>1003</td>\n",
       "      <td>2244756</td>\n",
       "      <td>종로구</td>\n",
       "    </tr>\n",
       "    <tr>\n",
       "      <th>3</th>\n",
       "      <td>1004</td>\n",
       "      <td>488603</td>\n",
       "      <td>종로구</td>\n",
       "    </tr>\n",
       "    <tr>\n",
       "      <th>4</th>\n",
       "      <td>1005</td>\n",
       "      <td>1386333</td>\n",
       "      <td>종로구</td>\n",
       "    </tr>\n",
       "  </tbody>\n",
       "</table>\n",
       "</div>"
      ],
      "text/plain": [
       "  버스정류장ARS번호       합계  시군구\n",
       "0       1001   316341  종로구\n",
       "1       1002  1538820  종로구\n",
       "2       1003  2244756  종로구\n",
       "3       1004   488603  종로구\n",
       "4       1005  1386333  종로구"
      ]
     },
     "execution_count": 95,
     "metadata": {},
     "output_type": "execute_result"
    }
   ],
   "source": [
    "merged_df = pd.merge(df_user, df_bus, on='버스정류장ARS번호')\n",
    "merged_df.head()"
   ]
  },
  {
   "cell_type": "code",
   "execution_count": 100,
   "metadata": {},
   "outputs": [],
   "source": [
    "fin_df = merged_df.groupby('시군구')['합계'].sum().reset_index()\n",
    "fin_df.columns = ['시군구', '버스 이용 인원']\n",
    "fin_df.to_csv('시군구별 버스 이용 인원.csv', encoding='UTF-8', index='False')"
   ]
  },
  {
   "cell_type": "code",
   "execution_count": null,
   "metadata": {},
   "outputs": [],
   "source": []
  }
 ],
 "metadata": {
  "kernelspec": {
   "display_name": "Python 3.10.0 64-bit",
   "language": "python",
   "name": "python3"
  },
  "language_info": {
   "codemirror_mode": {
    "name": "ipython",
    "version": 3
   },
   "file_extension": ".py",
   "mimetype": "text/x-python",
   "name": "python",
   "nbconvert_exporter": "python",
   "pygments_lexer": "ipython3",
   "version": "3.10.0"
  },
  "orig_nbformat": 4,
  "vscode": {
   "interpreter": {
    "hash": "7e1998ff7f8aa20ada591c520b972326324e5ea05489af9e422744c7c09f6dad"
   }
  }
 },
 "nbformat": 4,
 "nbformat_minor": 2
}
